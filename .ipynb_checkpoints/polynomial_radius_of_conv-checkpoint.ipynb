{
 "cells": [
  {
   "cell_type": "code",
   "execution_count": 1,
   "id": "82d4fc5f-8220-450f-a04d-47971ff48937",
   "metadata": {},
   "outputs": [],
   "source": [
    "import numpy as np"
   ]
  },
  {
   "cell_type": "code",
   "execution_count": 3,
   "id": "36bdaedf-ff2f-4d78-87b5-140737978d31",
   "metadata": {},
   "outputs": [],
   "source": [
    "def converges2(func, solutions, x0, i):# this checks the convergence given a specific root\n",
    "  return np.isclose(float(newtons_method(func, x0)), float(solutions[i]))\n",
    "\n",
    "\n",
    "def radius_of_convergence_bisection2(func, solutions, max_x, root_index, max_iter=100):\n",
    "  min_radius = float(solutions[root_index])\n",
    "  if len(solutions) > (root_index + 1): #if there are more roots, set the max radius to the next root\n",
    "     max_radius = float(solutions[root_index + 1])\n",
    "  else:\n",
    "     max_radius = max_x\n",
    "\n",
    "\n",
    "  root = solutions[root_index]#the root we are looking at\n",
    "  maxRadius_convergence = converges2(func, solutions, max_radius, root_index)#the convergence of the maxRadius\n",
    "  minRadius_convergence = converges2(func, solutions, min_radius, root_index)#the convergence of the minRadius\n",
    "\n",
    "\n",
    "  if maxRadius_convergence:#if the max radius converges then we can conclude that the max radius is infinty\n",
    "     return None\n",
    "  if minRadius_convergence == False:\n",
    "     return 0.0\n",
    "\n",
    "\n",
    "  midpoint = float((root + max_radius) / 2)\n",
    "  radius = 0.0\n",
    "  for i in range(max_iter):#bisection method for finding the radius of convergence\n",
    "     midpoint_convergence = converges2(func, solutions, midpoint, root_index)\n",
    "     if i == max_iter - 1:#keep this\n",
    "        if midpoint_convergence == True:\n",
    "           break\n",
    "     if midpoint_convergence == True:\n",
    "        min_radius = midpoint\n",
    "        midpoint = float((midpoint + max_radius) / 2)\n",
    "     if midpoint_convergence == False:\n",
    "        max_radius = midpoint\n",
    "        midpoint = float((midpoint + min_radius) / 2)\n",
    "\n",
    "\n",
    "     if abs(float(midpoint - root)) <= 1e-6 or abs(float(midpoint - max_radius)) <= 1e-6:\n",
    "        break\n",
    "\n",
    "  return abs(midpoint-root)"
   ]
  }
 ],
 "metadata": {
  "kernelspec": {
   "display_name": "Python 3 (ipykernel)",
   "language": "python",
   "name": "python3"
  },
  "language_info": {
   "codemirror_mode": {
    "name": "ipython",
    "version": 3
   },
   "file_extension": ".py",
   "mimetype": "text/x-python",
   "name": "python",
   "nbconvert_exporter": "python",
   "pygments_lexer": "ipython3",
   "version": "3.12.3"
  }
 },
 "nbformat": 4,
 "nbformat_minor": 5
}
