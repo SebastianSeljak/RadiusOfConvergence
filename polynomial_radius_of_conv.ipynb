{
 "cells": [
  {
   "cell_type": "code",
   "execution_count": 1,
   "id": "82d4fc5f-8220-450f-a04d-47971ff48937",
   "metadata": {},
   "outputs": [],
   "source": [
    "import numpy as np\n",
    "import jax.numpy as jnp\n",
    "import jax\n",
    "import sympy\n",
    "from radius_of_convergence import *"
   ]
  },
  {
   "cell_type": "code",
   "execution_count": 4,
   "id": "8493103b",
   "metadata": {},
   "outputs": [],
   "source": [
    "func, exp, period = generate_random_trig()"
   ]
  },
  {
   "cell_type": "code",
   "execution_count": 5,
   "id": "b29158ff",
   "metadata": {},
   "outputs": [
    {
     "name": "stdout",
     "output_type": "stream",
     "text": [
      "Generated function: 1.72*sin(3.21*x) - 2.21*cos(4.28*x) - 1.04\n"
     ]
    },
    {
     "ename": "KeyboardInterrupt",
     "evalue": "",
     "output_type": "error",
     "traceback": [
      "\u001b[0;31m---------------------------------------------------------------------------\u001b[0m",
      "\u001b[0;31mKeyboardInterrupt\u001b[0m                         Traceback (most recent call last)",
      "Cell \u001b[0;32mIn[5], line 1\u001b[0m\n\u001b[0;32m----> 1\u001b[0m \u001b[43manalyze_function\u001b[49m\u001b[43m(\u001b[49m\u001b[43mfunc\u001b[49m\u001b[43m,\u001b[49m\u001b[43m \u001b[49m\u001b[43mexp\u001b[49m\u001b[43m)\u001b[49m\n",
      "File \u001b[0;32m~/Desktop/UCLA/Winter '25/Math 151A/RadiusOfConvergence/radius_of_convergence.py:174\u001b[0m, in \u001b[0;36manalyze_function\u001b[0;34m(func, expr)\u001b[0m\n\u001b[1;32m    171\u001b[0m \u001b[38;5;28mprint\u001b[39m(\u001b[38;5;124mf\u001b[39m\u001b[38;5;124m\"\u001b[39m\u001b[38;5;124mGenerated function: \u001b[39m\u001b[38;5;132;01m{\u001b[39;00mexpr\u001b[38;5;132;01m}\u001b[39;00m\u001b[38;5;124m\"\u001b[39m)\n\u001b[1;32m    173\u001b[0m \u001b[38;5;66;03m# Find the real roots of the symbolic expression\u001b[39;00m\n\u001b[0;32m--> 174\u001b[0m roots \u001b[38;5;241m=\u001b[39m \u001b[43msympy\u001b[49m\u001b[38;5;241;43m.\u001b[39;49m\u001b[43msolve\u001b[49m\u001b[43m(\u001b[49m\u001b[43mexpr\u001b[49m\u001b[43m,\u001b[49m\u001b[43m \u001b[49m\u001b[43mx\u001b[49m\u001b[43m)\u001b[49m\n\u001b[1;32m    175\u001b[0m real_roots \u001b[38;5;241m=\u001b[39m [r\u001b[38;5;241m.\u001b[39mevalf() \u001b[38;5;28;01mfor\u001b[39;00m r \u001b[38;5;129;01min\u001b[39;00m roots \u001b[38;5;28;01mif\u001b[39;00m r\u001b[38;5;241m.\u001b[39mis_real]\n\u001b[1;32m    176\u001b[0m real_roots\u001b[38;5;241m.\u001b[39msort()\n",
      "File \u001b[0;32m~/opt/anaconda3/envs/PIC16B-25W/lib/python3.11/site-packages/sympy/solvers/solvers.py:1170\u001b[0m, in \u001b[0;36msolve\u001b[0;34m(f, *symbols, **flags)\u001b[0m\n\u001b[1;32m   1168\u001b[0m         solution \u001b[38;5;241m=\u001b[39m _solve_undetermined(f[\u001b[38;5;241m0\u001b[39m], symbols, flags)\n\u001b[1;32m   1169\u001b[0m     \u001b[38;5;28;01mif\u001b[39;00m \u001b[38;5;129;01mnot\u001b[39;00m solution:\n\u001b[0;32m-> 1170\u001b[0m         solution \u001b[38;5;241m=\u001b[39m \u001b[43m_solve\u001b[49m\u001b[43m(\u001b[49m\u001b[43mf\u001b[49m\u001b[43m[\u001b[49m\u001b[38;5;241;43m0\u001b[39;49m\u001b[43m]\u001b[49m\u001b[43m,\u001b[49m\u001b[43m \u001b[49m\u001b[38;5;241;43m*\u001b[39;49m\u001b[43msymbols\u001b[49m\u001b[43m,\u001b[49m\u001b[43m \u001b[49m\u001b[38;5;241;43m*\u001b[39;49m\u001b[38;5;241;43m*\u001b[39;49m\u001b[43mflags\u001b[49m\u001b[43m)\u001b[49m\n\u001b[1;32m   1171\u001b[0m \u001b[38;5;28;01melse\u001b[39;00m:\n\u001b[1;32m   1172\u001b[0m     linear, solution \u001b[38;5;241m=\u001b[39m _solve_system(f, symbols, \u001b[38;5;241m*\u001b[39m\u001b[38;5;241m*\u001b[39mflags)\n",
      "File \u001b[0;32m~/opt/anaconda3/envs/PIC16B-25W/lib/python3.11/site-packages/sympy/solvers/solvers.py:1571\u001b[0m, in \u001b[0;36m_solve\u001b[0;34m(f, *symbols, **flags)\u001b[0m\n\u001b[1;32m   1567\u001b[0m     \u001b[38;5;28;01mif\u001b[39;00m newf \u001b[38;5;241m!=\u001b[39m f_num:\n\u001b[1;32m   1568\u001b[0m         \u001b[38;5;66;03m# don't check the rewritten form --check\u001b[39;00m\n\u001b[1;32m   1569\u001b[0m         \u001b[38;5;66;03m# solutions in the un-rewritten form below\u001b[39;00m\n\u001b[1;32m   1570\u001b[0m         flags[\u001b[38;5;124m'\u001b[39m\u001b[38;5;124mcheck\u001b[39m\u001b[38;5;124m'\u001b[39m] \u001b[38;5;241m=\u001b[39m \u001b[38;5;28;01mFalse\u001b[39;00m\n\u001b[0;32m-> 1571\u001b[0m         result \u001b[38;5;241m=\u001b[39m \u001b[43m_solve\u001b[49m\u001b[43m(\u001b[49m\u001b[43mnewf\u001b[49m\u001b[43m,\u001b[49m\u001b[43m \u001b[49m\u001b[43msymbol\u001b[49m\u001b[43m,\u001b[49m\u001b[43m \u001b[49m\u001b[38;5;241;43m*\u001b[39;49m\u001b[38;5;241;43m*\u001b[39;49m\u001b[43mflags\u001b[49m\u001b[43m)\u001b[49m\n\u001b[1;32m   1572\u001b[0m         flags[\u001b[38;5;124m'\u001b[39m\u001b[38;5;124mcheck\u001b[39m\u001b[38;5;124m'\u001b[39m] \u001b[38;5;241m=\u001b[39m check\n\u001b[1;32m   1574\u001b[0m \u001b[38;5;66;03m# just a simple case - see if replacement of single function\u001b[39;00m\n\u001b[1;32m   1575\u001b[0m \u001b[38;5;66;03m# clears all symbol-dependent functions, e.g.\u001b[39;00m\n\u001b[1;32m   1576\u001b[0m \u001b[38;5;66;03m# log(x) - log(log(x) - 1) - 3 can be solved even though it has\u001b[39;00m\n\u001b[1;32m   1577\u001b[0m \u001b[38;5;66;03m# two generators.\u001b[39;00m\n",
      "File \u001b[0;32m~/opt/anaconda3/envs/PIC16B-25W/lib/python3.11/site-packages/sympy/solvers/solvers.py:1721\u001b[0m, in \u001b[0;36m_solve\u001b[0;34m(f, *symbols, **flags)\u001b[0m\n\u001b[1;32m   1719\u001b[0m flags\u001b[38;5;241m.\u001b[39mpop(\u001b[38;5;124m'\u001b[39m\u001b[38;5;124mtsolve\u001b[39m\u001b[38;5;124m'\u001b[39m, \u001b[38;5;28;01mNone\u001b[39;00m)  \u001b[38;5;66;03m# allow tsolve to be used on next pass\u001b[39;00m\n\u001b[1;32m   1720\u001b[0m \u001b[38;5;28;01mtry\u001b[39;00m:\n\u001b[0;32m-> 1721\u001b[0m     soln \u001b[38;5;241m=\u001b[39m \u001b[43m_tsolve\u001b[49m\u001b[43m(\u001b[49m\u001b[43mf_num\u001b[49m\u001b[43m,\u001b[49m\u001b[43m \u001b[49m\u001b[43msymbol\u001b[49m\u001b[43m,\u001b[49m\u001b[43m \u001b[49m\u001b[38;5;241;43m*\u001b[39;49m\u001b[38;5;241;43m*\u001b[39;49m\u001b[43mflags\u001b[49m\u001b[43m)\u001b[49m\n\u001b[1;32m   1722\u001b[0m     \u001b[38;5;28;01mif\u001b[39;00m soln \u001b[38;5;129;01mis\u001b[39;00m \u001b[38;5;129;01mnot\u001b[39;00m \u001b[38;5;28;01mNone\u001b[39;00m:\n\u001b[1;32m   1723\u001b[0m         result \u001b[38;5;241m=\u001b[39m [{symbol: v} \u001b[38;5;28;01mfor\u001b[39;00m v \u001b[38;5;129;01min\u001b[39;00m soln]\n",
      "File \u001b[0;32m~/opt/anaconda3/envs/PIC16B-25W/lib/python3.11/site-packages/sympy/solvers/solvers.py:2811\u001b[0m, in \u001b[0;36m_tsolve\u001b[0;34m(eq, sym, **flags)\u001b[0m\n\u001b[1;32m   2809\u001b[0m     rewrite \u001b[38;5;241m=\u001b[39m rebuild(rewrite) \u001b[38;5;66;03m# avoid rewrites involving evaluate=False\u001b[39;00m\n\u001b[1;32m   2810\u001b[0m     \u001b[38;5;28;01mif\u001b[39;00m rewrite \u001b[38;5;241m!=\u001b[39m lhs:\n\u001b[0;32m-> 2811\u001b[0m         \u001b[38;5;28;01mreturn\u001b[39;00m \u001b[43m_vsolve\u001b[49m\u001b[43m(\u001b[49m\u001b[43mrewrite\u001b[49m\u001b[43m \u001b[49m\u001b[38;5;241;43m-\u001b[39;49m\u001b[43m \u001b[49m\u001b[43mrhs\u001b[49m\u001b[43m,\u001b[49m\u001b[43m \u001b[49m\u001b[43msym\u001b[49m\u001b[43m,\u001b[49m\u001b[43m \u001b[49m\u001b[38;5;241;43m*\u001b[39;49m\u001b[38;5;241;43m*\u001b[39;49m\u001b[43mflags\u001b[49m\u001b[43m)\u001b[49m\n\u001b[1;32m   2812\u001b[0m \u001b[38;5;28;01mexcept\u001b[39;00m \u001b[38;5;167;01mNotImplementedError\u001b[39;00m:\n\u001b[1;32m   2813\u001b[0m     \u001b[38;5;28;01mpass\u001b[39;00m\n",
      "File \u001b[0;32m~/opt/anaconda3/envs/PIC16B-25W/lib/python3.11/site-packages/sympy/solvers/solvers.py:2642\u001b[0m, in \u001b[0;36m_vsolve\u001b[0;34m(e, s, **flags)\u001b[0m\n\u001b[1;32m   2640\u001b[0m \u001b[38;5;28;01mdef\u001b[39;00m \u001b[38;5;21m_vsolve\u001b[39m(e, s, \u001b[38;5;241m*\u001b[39m\u001b[38;5;241m*\u001b[39mflags):\n\u001b[1;32m   2641\u001b[0m \u001b[38;5;250m    \u001b[39m\u001b[38;5;124;03m\"\"\"return list of scalar values for the solution of e for symbol s\"\"\"\u001b[39;00m\n\u001b[0;32m-> 2642\u001b[0m     \u001b[38;5;28;01mreturn\u001b[39;00m [i[s] \u001b[38;5;28;01mfor\u001b[39;00m i \u001b[38;5;129;01min\u001b[39;00m \u001b[43m_solve\u001b[49m\u001b[43m(\u001b[49m\u001b[43me\u001b[49m\u001b[43m,\u001b[49m\u001b[43m \u001b[49m\u001b[43ms\u001b[49m\u001b[43m,\u001b[49m\u001b[43m \u001b[49m\u001b[38;5;241;43m*\u001b[39;49m\u001b[38;5;241;43m*\u001b[39;49m\u001b[43mflags\u001b[49m\u001b[43m)\u001b[49m]\n",
      "File \u001b[0;32m~/opt/anaconda3/envs/PIC16B-25W/lib/python3.11/site-packages/sympy/solvers/solvers.py:1721\u001b[0m, in \u001b[0;36m_solve\u001b[0;34m(f, *symbols, **flags)\u001b[0m\n\u001b[1;32m   1719\u001b[0m flags\u001b[38;5;241m.\u001b[39mpop(\u001b[38;5;124m'\u001b[39m\u001b[38;5;124mtsolve\u001b[39m\u001b[38;5;124m'\u001b[39m, \u001b[38;5;28;01mNone\u001b[39;00m)  \u001b[38;5;66;03m# allow tsolve to be used on next pass\u001b[39;00m\n\u001b[1;32m   1720\u001b[0m \u001b[38;5;28;01mtry\u001b[39;00m:\n\u001b[0;32m-> 1721\u001b[0m     soln \u001b[38;5;241m=\u001b[39m \u001b[43m_tsolve\u001b[49m\u001b[43m(\u001b[49m\u001b[43mf_num\u001b[49m\u001b[43m,\u001b[49m\u001b[43m \u001b[49m\u001b[43msymbol\u001b[49m\u001b[43m,\u001b[49m\u001b[43m \u001b[49m\u001b[38;5;241;43m*\u001b[39;49m\u001b[38;5;241;43m*\u001b[39;49m\u001b[43mflags\u001b[49m\u001b[43m)\u001b[49m\n\u001b[1;32m   1722\u001b[0m     \u001b[38;5;28;01mif\u001b[39;00m soln \u001b[38;5;129;01mis\u001b[39;00m \u001b[38;5;129;01mnot\u001b[39;00m \u001b[38;5;28;01mNone\u001b[39;00m:\n\u001b[1;32m   1723\u001b[0m         result \u001b[38;5;241m=\u001b[39m [{symbol: v} \u001b[38;5;28;01mfor\u001b[39;00m v \u001b[38;5;129;01min\u001b[39;00m soln]\n",
      "File \u001b[0;32m~/opt/anaconda3/envs/PIC16B-25W/lib/python3.11/site-packages/sympy/solvers/solvers.py:2688\u001b[0m, in \u001b[0;36m_tsolve\u001b[0;34m(eq, sym, **flags)\u001b[0m\n\u001b[1;32m   2684\u001b[0m \u001b[38;5;28;01mtry\u001b[39;00m:\n\u001b[1;32m   2685\u001b[0m     \u001b[38;5;28;01mif\u001b[39;00m lhs\u001b[38;5;241m.\u001b[39mis_Add:\n\u001b[1;32m   2686\u001b[0m         \u001b[38;5;66;03m# it's time to try factoring; powdenest is used\u001b[39;00m\n\u001b[1;32m   2687\u001b[0m         \u001b[38;5;66;03m# to try get powers in standard form for better factoring\u001b[39;00m\n\u001b[0;32m-> 2688\u001b[0m         f \u001b[38;5;241m=\u001b[39m \u001b[43mfactor\u001b[49m\u001b[43m(\u001b[49m\u001b[43mpowdenest\u001b[49m\u001b[43m(\u001b[49m\u001b[43mlhs\u001b[49m\u001b[43m \u001b[49m\u001b[38;5;241;43m-\u001b[39;49m\u001b[43m \u001b[49m\u001b[43mrhs\u001b[49m\u001b[43m)\u001b[49m\u001b[43m)\u001b[49m\n\u001b[1;32m   2689\u001b[0m         \u001b[38;5;28;01mif\u001b[39;00m f\u001b[38;5;241m.\u001b[39mis_Mul:\n\u001b[1;32m   2690\u001b[0m             \u001b[38;5;28;01mreturn\u001b[39;00m _vsolve(f, sym, \u001b[38;5;241m*\u001b[39m\u001b[38;5;241m*\u001b[39mflags)\n",
      "File \u001b[0;32m~/opt/anaconda3/envs/PIC16B-25W/lib/python3.11/site-packages/sympy/polys/polytools.py:6577\u001b[0m, in \u001b[0;36mfactor\u001b[0;34m(f, deep, *gens, **args)\u001b[0m\n\u001b[1;32m   6574\u001b[0m     \u001b[38;5;28;01mreturn\u001b[39;00m f\u001b[38;5;241m.\u001b[39mxreplace(partials)\n\u001b[1;32m   6576\u001b[0m \u001b[38;5;28;01mtry\u001b[39;00m:\n\u001b[0;32m-> 6577\u001b[0m     \u001b[38;5;28;01mreturn\u001b[39;00m \u001b[43m_generic_factor\u001b[49m\u001b[43m(\u001b[49m\u001b[43mf\u001b[49m\u001b[43m,\u001b[49m\u001b[43m \u001b[49m\u001b[43mgens\u001b[49m\u001b[43m,\u001b[49m\u001b[43m \u001b[49m\u001b[43margs\u001b[49m\u001b[43m,\u001b[49m\u001b[43m \u001b[49m\u001b[43mmethod\u001b[49m\u001b[38;5;241;43m=\u001b[39;49m\u001b[38;5;124;43m'\u001b[39;49m\u001b[38;5;124;43mfactor\u001b[39;49m\u001b[38;5;124;43m'\u001b[39;49m\u001b[43m)\u001b[49m\n\u001b[1;32m   6578\u001b[0m \u001b[38;5;28;01mexcept\u001b[39;00m PolynomialError:\n\u001b[1;32m   6579\u001b[0m     \u001b[38;5;28;01mif\u001b[39;00m \u001b[38;5;129;01mnot\u001b[39;00m f\u001b[38;5;241m.\u001b[39mis_commutative:\n",
      "File \u001b[0;32m~/opt/anaconda3/envs/PIC16B-25W/lib/python3.11/site-packages/sympy/polys/polytools.py:6258\u001b[0m, in \u001b[0;36m_generic_factor\u001b[0;34m(expr, gens, args, method)\u001b[0m\n\u001b[1;32m   6256\u001b[0m opt \u001b[38;5;241m=\u001b[39m options\u001b[38;5;241m.\u001b[39mbuild_options(gens, args)\n\u001b[1;32m   6257\u001b[0m opt[\u001b[38;5;124m'\u001b[39m\u001b[38;5;124mfraction\u001b[39m\u001b[38;5;124m'\u001b[39m] \u001b[38;5;241m=\u001b[39m fraction\n\u001b[0;32m-> 6258\u001b[0m \u001b[38;5;28;01mreturn\u001b[39;00m \u001b[43m_symbolic_factor\u001b[49m\u001b[43m(\u001b[49m\u001b[43msympify\u001b[49m\u001b[43m(\u001b[49m\u001b[43mexpr\u001b[49m\u001b[43m)\u001b[49m\u001b[43m,\u001b[49m\u001b[43m \u001b[49m\u001b[43mopt\u001b[49m\u001b[43m,\u001b[49m\u001b[43m \u001b[49m\u001b[43mmethod\u001b[49m\u001b[43m)\u001b[49m\n",
      "File \u001b[0;32m~/opt/anaconda3/envs/PIC16B-25W/lib/python3.11/site-packages/sympy/polys/polytools.py:6198\u001b[0m, in \u001b[0;36m_symbolic_factor\u001b[0;34m(expr, opt, method)\u001b[0m\n\u001b[1;32m   6196\u001b[0m     \u001b[38;5;28;01mif\u001b[39;00m \u001b[38;5;28mhasattr\u001b[39m(expr,\u001b[38;5;124m'\u001b[39m\u001b[38;5;124m_eval_factor\u001b[39m\u001b[38;5;124m'\u001b[39m):\n\u001b[1;32m   6197\u001b[0m         \u001b[38;5;28;01mreturn\u001b[39;00m expr\u001b[38;5;241m.\u001b[39m_eval_factor()\n\u001b[0;32m-> 6198\u001b[0m     coeff, factors \u001b[38;5;241m=\u001b[39m \u001b[43m_symbolic_factor_list\u001b[49m\u001b[43m(\u001b[49m\u001b[43mtogether\u001b[49m\u001b[43m(\u001b[49m\u001b[43mexpr\u001b[49m\u001b[43m,\u001b[49m\u001b[43m \u001b[49m\u001b[43mfraction\u001b[49m\u001b[38;5;241;43m=\u001b[39;49m\u001b[43mopt\u001b[49m\u001b[43m[\u001b[49m\u001b[38;5;124;43m'\u001b[39;49m\u001b[38;5;124;43mfraction\u001b[39;49m\u001b[38;5;124;43m'\u001b[39;49m\u001b[43m]\u001b[49m\u001b[43m)\u001b[49m\u001b[43m,\u001b[49m\u001b[43m \u001b[49m\u001b[43mopt\u001b[49m\u001b[43m,\u001b[49m\u001b[43m \u001b[49m\u001b[43mmethod\u001b[49m\u001b[43m)\u001b[49m\n\u001b[1;32m   6199\u001b[0m     \u001b[38;5;28;01mreturn\u001b[39;00m _keep_coeff(coeff, _factors_product(factors))\n\u001b[1;32m   6200\u001b[0m \u001b[38;5;28;01melif\u001b[39;00m \u001b[38;5;28mhasattr\u001b[39m(expr, \u001b[38;5;124m'\u001b[39m\u001b[38;5;124margs\u001b[39m\u001b[38;5;124m'\u001b[39m):\n",
      "File \u001b[0;32m~/opt/anaconda3/envs/PIC16B-25W/lib/python3.11/site-packages/sympy/polys/polytools.py:6163\u001b[0m, in \u001b[0;36m_symbolic_factor_list\u001b[0;34m(expr, opt, method)\u001b[0m\n\u001b[1;32m   6160\u001b[0m \u001b[38;5;28;01melse\u001b[39;00m:\n\u001b[1;32m   6161\u001b[0m     func \u001b[38;5;241m=\u001b[39m \u001b[38;5;28mgetattr\u001b[39m(poly, method \u001b[38;5;241m+\u001b[39m \u001b[38;5;124m'\u001b[39m\u001b[38;5;124m_list\u001b[39m\u001b[38;5;124m'\u001b[39m)\n\u001b[0;32m-> 6163\u001b[0m     _coeff, _factors \u001b[38;5;241m=\u001b[39m \u001b[43mfunc\u001b[49m\u001b[43m(\u001b[49m\u001b[43m)\u001b[49m\n\u001b[1;32m   6164\u001b[0m     \u001b[38;5;28;01mif\u001b[39;00m _coeff \u001b[38;5;129;01mis\u001b[39;00m \u001b[38;5;129;01mnot\u001b[39;00m S\u001b[38;5;241m.\u001b[39mOne:\n\u001b[1;32m   6165\u001b[0m         \u001b[38;5;28;01mif\u001b[39;00m exp\u001b[38;5;241m.\u001b[39mis_Integer:\n",
      "File \u001b[0;32m~/opt/anaconda3/envs/PIC16B-25W/lib/python3.11/site-packages/sympy/polys/polytools.py:3378\u001b[0m, in \u001b[0;36mPoly.factor_list\u001b[0;34m(f)\u001b[0m\n\u001b[1;32m   3376\u001b[0m \u001b[38;5;28;01mif\u001b[39;00m \u001b[38;5;28mhasattr\u001b[39m(f\u001b[38;5;241m.\u001b[39mrep, \u001b[38;5;124m'\u001b[39m\u001b[38;5;124mfactor_list\u001b[39m\u001b[38;5;124m'\u001b[39m):\n\u001b[1;32m   3377\u001b[0m     \u001b[38;5;28;01mtry\u001b[39;00m:\n\u001b[0;32m-> 3378\u001b[0m         coeff, factors \u001b[38;5;241m=\u001b[39m \u001b[43mf\u001b[49m\u001b[38;5;241;43m.\u001b[39;49m\u001b[43mrep\u001b[49m\u001b[38;5;241;43m.\u001b[39;49m\u001b[43mfactor_list\u001b[49m\u001b[43m(\u001b[49m\u001b[43m)\u001b[49m\n\u001b[1;32m   3379\u001b[0m     \u001b[38;5;28;01mexcept\u001b[39;00m DomainError:\n\u001b[1;32m   3380\u001b[0m         \u001b[38;5;28;01mif\u001b[39;00m f\u001b[38;5;241m.\u001b[39mdegree() \u001b[38;5;241m==\u001b[39m \u001b[38;5;241m0\u001b[39m:\n",
      "File \u001b[0;32m~/opt/anaconda3/envs/PIC16B-25W/lib/python3.11/site-packages/sympy/polys/polyclasses.py:1637\u001b[0m, in \u001b[0;36mDMP_Python.factor_list\u001b[0;34m(f)\u001b[0m\n\u001b[1;32m   1635\u001b[0m \u001b[38;5;28;01mdef\u001b[39;00m \u001b[38;5;21mfactor_list\u001b[39m(f):\n\u001b[1;32m   1636\u001b[0m \u001b[38;5;250m    \u001b[39m\u001b[38;5;124;03m\"\"\"Returns a list of irreducible factors of ``f``. \"\"\"\u001b[39;00m\n\u001b[0;32m-> 1637\u001b[0m     coeff, factors \u001b[38;5;241m=\u001b[39m \u001b[43mdmp_factor_list\u001b[49m\u001b[43m(\u001b[49m\u001b[43mf\u001b[49m\u001b[38;5;241;43m.\u001b[39;49m\u001b[43m_rep\u001b[49m\u001b[43m,\u001b[49m\u001b[43m \u001b[49m\u001b[43mf\u001b[49m\u001b[38;5;241;43m.\u001b[39;49m\u001b[43mlev\u001b[49m\u001b[43m,\u001b[49m\u001b[43m \u001b[49m\u001b[43mf\u001b[49m\u001b[38;5;241;43m.\u001b[39;49m\u001b[43mdom\u001b[49m\u001b[43m)\u001b[49m\n\u001b[1;32m   1638\u001b[0m     \u001b[38;5;28;01mreturn\u001b[39;00m coeff, [ (f\u001b[38;5;241m.\u001b[39mper(g), k) \u001b[38;5;28;01mfor\u001b[39;00m g, k \u001b[38;5;129;01min\u001b[39;00m factors ]\n",
      "File \u001b[0;32m~/opt/anaconda3/envs/PIC16B-25W/lib/python3.11/site-packages/sympy/polys/factortools.py:1549\u001b[0m, in \u001b[0;36mdmp_factor_list\u001b[0;34m(f, u, K0)\u001b[0m\n\u001b[1;32m   1547\u001b[0m     coeff, factors \u001b[38;5;241m=\u001b[39m dmp_ext_factor(f, u, K0)\n\u001b[1;32m   1548\u001b[0m \u001b[38;5;28;01melif\u001b[39;00m K0\u001b[38;5;241m.\u001b[39mis_GaussianRing:\n\u001b[0;32m-> 1549\u001b[0m     coeff, factors \u001b[38;5;241m=\u001b[39m \u001b[43mdmp_zz_i_factor\u001b[49m\u001b[43m(\u001b[49m\u001b[43mf\u001b[49m\u001b[43m,\u001b[49m\u001b[43m \u001b[49m\u001b[43mu\u001b[49m\u001b[43m,\u001b[49m\u001b[43m \u001b[49m\u001b[43mK0\u001b[49m\u001b[43m)\u001b[49m\n\u001b[1;32m   1550\u001b[0m \u001b[38;5;28;01melif\u001b[39;00m K0\u001b[38;5;241m.\u001b[39mis_GaussianField:\n\u001b[1;32m   1551\u001b[0m     coeff, factors \u001b[38;5;241m=\u001b[39m dmp_qq_i_factor(f, u, K0)\n",
      "File \u001b[0;32m~/opt/anaconda3/envs/PIC16B-25W/lib/python3.11/site-packages/sympy/polys/factortools.py:1249\u001b[0m, in \u001b[0;36mdmp_zz_i_factor\u001b[0;34m(f, u, K0)\u001b[0m\n\u001b[1;32m   1247\u001b[0m K1 \u001b[38;5;241m=\u001b[39m K0\u001b[38;5;241m.\u001b[39mget_field()\n\u001b[1;32m   1248\u001b[0m f \u001b[38;5;241m=\u001b[39m dmp_convert(f, u, K0, K1)\n\u001b[0;32m-> 1249\u001b[0m coeff, factors \u001b[38;5;241m=\u001b[39m \u001b[43mdmp_qq_i_factor\u001b[49m\u001b[43m(\u001b[49m\u001b[43mf\u001b[49m\u001b[43m,\u001b[49m\u001b[43m \u001b[49m\u001b[43mu\u001b[49m\u001b[43m,\u001b[49m\u001b[43m \u001b[49m\u001b[43mK1\u001b[49m\u001b[43m)\u001b[49m\n\u001b[1;32m   1251\u001b[0m new_factors \u001b[38;5;241m=\u001b[39m []\n\u001b[1;32m   1252\u001b[0m \u001b[38;5;28;01mfor\u001b[39;00m fac, i \u001b[38;5;129;01min\u001b[39;00m factors:\n\u001b[1;32m   1253\u001b[0m     \u001b[38;5;66;03m# Extract content\u001b[39;00m\n",
      "File \u001b[0;32m~/opt/anaconda3/envs/PIC16B-25W/lib/python3.11/site-packages/sympy/polys/factortools.py:1238\u001b[0m, in \u001b[0;36mdmp_qq_i_factor\u001b[0;34m(f, u, K0)\u001b[0m\n\u001b[1;32m   1236\u001b[0m K1 \u001b[38;5;241m=\u001b[39m K0\u001b[38;5;241m.\u001b[39mas_AlgebraicField()\n\u001b[1;32m   1237\u001b[0m f \u001b[38;5;241m=\u001b[39m dmp_convert(f, u, K0, K1)\n\u001b[0;32m-> 1238\u001b[0m coeff, factors \u001b[38;5;241m=\u001b[39m \u001b[43mdmp_factor_list\u001b[49m\u001b[43m(\u001b[49m\u001b[43mf\u001b[49m\u001b[43m,\u001b[49m\u001b[43m \u001b[49m\u001b[43mu\u001b[49m\u001b[43m,\u001b[49m\u001b[43m \u001b[49m\u001b[43mK1\u001b[49m\u001b[43m)\u001b[49m\n\u001b[1;32m   1239\u001b[0m factors \u001b[38;5;241m=\u001b[39m [(dmp_convert(fac, u, K1, K0), i) \u001b[38;5;28;01mfor\u001b[39;00m fac, i \u001b[38;5;129;01min\u001b[39;00m factors]\n\u001b[1;32m   1240\u001b[0m coeff \u001b[38;5;241m=\u001b[39m K0\u001b[38;5;241m.\u001b[39mconvert(coeff, K1)\n",
      "File \u001b[0;32m~/opt/anaconda3/envs/PIC16B-25W/lib/python3.11/site-packages/sympy/polys/factortools.py:1547\u001b[0m, in \u001b[0;36mdmp_factor_list\u001b[0;34m(f, u, K0)\u001b[0m\n\u001b[1;32m   1545\u001b[0m     coeff, factors \u001b[38;5;241m=\u001b[39m dmp_gf_factor(f, u, K0)\n\u001b[1;32m   1546\u001b[0m \u001b[38;5;28;01melif\u001b[39;00m K0\u001b[38;5;241m.\u001b[39mis_Algebraic:\n\u001b[0;32m-> 1547\u001b[0m     coeff, factors \u001b[38;5;241m=\u001b[39m \u001b[43mdmp_ext_factor\u001b[49m\u001b[43m(\u001b[49m\u001b[43mf\u001b[49m\u001b[43m,\u001b[49m\u001b[43m \u001b[49m\u001b[43mu\u001b[49m\u001b[43m,\u001b[49m\u001b[43m \u001b[49m\u001b[43mK0\u001b[49m\u001b[43m)\u001b[49m\n\u001b[1;32m   1548\u001b[0m \u001b[38;5;28;01melif\u001b[39;00m K0\u001b[38;5;241m.\u001b[39mis_GaussianRing:\n\u001b[1;32m   1549\u001b[0m     coeff, factors \u001b[38;5;241m=\u001b[39m dmp_zz_i_factor(f, u, K0)\n",
      "File \u001b[0;32m~/opt/anaconda3/envs/PIC16B-25W/lib/python3.11/site-packages/sympy/polys/factortools.py:1420\u001b[0m, in \u001b[0;36mdmp_ext_factor\u001b[0;34m(f, u, K)\u001b[0m\n\u001b[1;32m   1417\u001b[0m \u001b[38;5;28;01mif\u001b[39;00m \u001b[38;5;28mall\u001b[39m(d \u001b[38;5;241m<\u001b[39m\u001b[38;5;241m=\u001b[39m \u001b[38;5;241m0\u001b[39m \u001b[38;5;28;01mfor\u001b[39;00m d \u001b[38;5;129;01min\u001b[39;00m dmp_degree_list(f, u)):\n\u001b[1;32m   1418\u001b[0m     \u001b[38;5;28;01mreturn\u001b[39;00m lc, []\n\u001b[0;32m-> 1420\u001b[0m f, F \u001b[38;5;241m=\u001b[39m \u001b[43mdmp_sqf_part\u001b[49m\u001b[43m(\u001b[49m\u001b[43mf\u001b[49m\u001b[43m,\u001b[49m\u001b[43m \u001b[49m\u001b[43mu\u001b[49m\u001b[43m,\u001b[49m\u001b[43m \u001b[49m\u001b[43mK\u001b[49m\u001b[43m)\u001b[49m, f\n\u001b[1;32m   1421\u001b[0m s, g, r \u001b[38;5;241m=\u001b[39m dmp_sqf_norm(f, u, K)\n\u001b[1;32m   1423\u001b[0m factors \u001b[38;5;241m=\u001b[39m dmp_factor_list_include(r, u, K\u001b[38;5;241m.\u001b[39mdom)\n",
      "File \u001b[0;32m~/opt/anaconda3/envs/PIC16B-25W/lib/python3.11/site-packages/sympy/polys/sqfreetools.py:470\u001b[0m, in \u001b[0;36mdmp_sqf_part\u001b[0;34m(f, u, K)\u001b[0m\n\u001b[1;32m    468\u001b[0m gcd \u001b[38;5;241m=\u001b[39m f\n\u001b[1;32m    469\u001b[0m \u001b[38;5;28;01mfor\u001b[39;00m i \u001b[38;5;129;01min\u001b[39;00m \u001b[38;5;28mrange\u001b[39m(u\u001b[38;5;241m+\u001b[39m\u001b[38;5;241m1\u001b[39m):\n\u001b[0;32m--> 470\u001b[0m     gcd \u001b[38;5;241m=\u001b[39m \u001b[43mdmp_gcd\u001b[49m\u001b[43m(\u001b[49m\u001b[43mgcd\u001b[49m\u001b[43m,\u001b[49m\u001b[43m \u001b[49m\u001b[43mdmp_diff_in\u001b[49m\u001b[43m(\u001b[49m\u001b[43mf\u001b[49m\u001b[43m,\u001b[49m\u001b[43m \u001b[49m\u001b[38;5;241;43m1\u001b[39;49m\u001b[43m,\u001b[49m\u001b[43m \u001b[49m\u001b[43mi\u001b[49m\u001b[43m,\u001b[49m\u001b[43m \u001b[49m\u001b[43mu\u001b[49m\u001b[43m,\u001b[49m\u001b[43m \u001b[49m\u001b[43mK\u001b[49m\u001b[43m)\u001b[49m\u001b[43m,\u001b[49m\u001b[43m \u001b[49m\u001b[43mu\u001b[49m\u001b[43m,\u001b[49m\u001b[43m \u001b[49m\u001b[43mK\u001b[49m\u001b[43m)\u001b[49m\n\u001b[1;32m    471\u001b[0m sqf \u001b[38;5;241m=\u001b[39m dmp_quo(f, gcd, u, K)\n\u001b[1;32m    473\u001b[0m \u001b[38;5;28;01mif\u001b[39;00m K\u001b[38;5;241m.\u001b[39mis_Field:\n",
      "File \u001b[0;32m~/opt/anaconda3/envs/PIC16B-25W/lib/python3.11/site-packages/sympy/polys/euclidtools.py:1639\u001b[0m, in \u001b[0;36mdmp_gcd\u001b[0;34m(f, g, u, K)\u001b[0m\n\u001b[1;32m   1622\u001b[0m \u001b[38;5;28;01mdef\u001b[39;00m \u001b[38;5;21mdmp_gcd\u001b[39m(f, g, u, K):\n\u001b[1;32m   1623\u001b[0m \u001b[38;5;250m    \u001b[39m\u001b[38;5;124;03m\"\"\"\u001b[39;00m\n\u001b[1;32m   1624\u001b[0m \u001b[38;5;124;03m    Computes polynomial GCD of `f` and `g` in `K[X]`.\u001b[39;00m\n\u001b[1;32m   1625\u001b[0m \n\u001b[0;32m   (...)\u001b[0m\n\u001b[1;32m   1637\u001b[0m \n\u001b[1;32m   1638\u001b[0m \u001b[38;5;124;03m    \"\"\"\u001b[39;00m\n\u001b[0;32m-> 1639\u001b[0m     \u001b[38;5;28;01mreturn\u001b[39;00m \u001b[43mdmp_inner_gcd\u001b[49m\u001b[43m(\u001b[49m\u001b[43mf\u001b[49m\u001b[43m,\u001b[49m\u001b[43m \u001b[49m\u001b[43mg\u001b[49m\u001b[43m,\u001b[49m\u001b[43m \u001b[49m\u001b[43mu\u001b[49m\u001b[43m,\u001b[49m\u001b[43m \u001b[49m\u001b[43mK\u001b[49m\u001b[43m)\u001b[49m[\u001b[38;5;241m0\u001b[39m]\n",
      "File \u001b[0;32m~/opt/anaconda3/envs/PIC16B-25W/lib/python3.11/site-packages/sympy/polys/euclidtools.py:1598\u001b[0m, in \u001b[0;36mdmp_inner_gcd\u001b[0;34m(f, g, u, K)\u001b[0m\n\u001b[1;32m   1595\u001b[0m     \u001b[38;5;28;01mreturn\u001b[39;00m dup_inner_gcd(f, g, K)\n\u001b[1;32m   1597\u001b[0m J, (f, g) \u001b[38;5;241m=\u001b[39m dmp_multi_deflate((f, g), u, K)\n\u001b[0;32m-> 1598\u001b[0m h, cff, cfg \u001b[38;5;241m=\u001b[39m \u001b[43m_dmp_inner_gcd\u001b[49m\u001b[43m(\u001b[49m\u001b[43mf\u001b[49m\u001b[43m,\u001b[49m\u001b[43m \u001b[49m\u001b[43mg\u001b[49m\u001b[43m,\u001b[49m\u001b[43m \u001b[49m\u001b[43mu\u001b[49m\u001b[43m,\u001b[49m\u001b[43m \u001b[49m\u001b[43mK\u001b[49m\u001b[43m)\u001b[49m\n\u001b[1;32m   1600\u001b[0m \u001b[38;5;28;01mreturn\u001b[39;00m (dmp_inflate(h, J, u, K),\n\u001b[1;32m   1601\u001b[0m         dmp_inflate(cff, J, u, K),\n\u001b[1;32m   1602\u001b[0m         dmp_inflate(cfg, J, u, K))\n",
      "File \u001b[0;32m~/opt/anaconda3/envs/PIC16B-25W/lib/python3.11/site-packages/sympy/polys/euclidtools.py:1563\u001b[0m, in \u001b[0;36m_dmp_inner_gcd\u001b[0;34m(f, g, u, K)\u001b[0m\n\u001b[1;32m   1560\u001b[0m         \u001b[38;5;28;01mexcept\u001b[39;00m HeuristicGCDFailed:\n\u001b[1;32m   1561\u001b[0m             \u001b[38;5;28;01mpass\u001b[39;00m\n\u001b[0;32m-> 1563\u001b[0m     \u001b[38;5;28;01mreturn\u001b[39;00m \u001b[43mdmp_ff_prs_gcd\u001b[49m\u001b[43m(\u001b[49m\u001b[43mf\u001b[49m\u001b[43m,\u001b[49m\u001b[43m \u001b[49m\u001b[43mg\u001b[49m\u001b[43m,\u001b[49m\u001b[43m \u001b[49m\u001b[43mu\u001b[49m\u001b[43m,\u001b[49m\u001b[43m \u001b[49m\u001b[43mK\u001b[49m\u001b[43m)\u001b[49m\n\u001b[1;32m   1564\u001b[0m \u001b[38;5;28;01melse\u001b[39;00m:\n\u001b[1;32m   1565\u001b[0m     \u001b[38;5;28;01mif\u001b[39;00m K\u001b[38;5;241m.\u001b[39mis_ZZ \u001b[38;5;129;01mand\u001b[39;00m query(\u001b[38;5;124m'\u001b[39m\u001b[38;5;124mUSE_HEU_GCD\u001b[39m\u001b[38;5;124m'\u001b[39m):\n",
      "File \u001b[0;32m~/opt/anaconda3/envs/PIC16B-25W/lib/python3.11/site-packages/sympy/polys/euclidtools.py:1116\u001b[0m, in \u001b[0;36mdmp_ff_prs_gcd\u001b[0;34m(f, g, u, K)\u001b[0m\n\u001b[1;32m   1113\u001b[0m fc, F \u001b[38;5;241m=\u001b[39m dmp_primitive(f, u, K)\n\u001b[1;32m   1114\u001b[0m gc, G \u001b[38;5;241m=\u001b[39m dmp_primitive(g, u, K)\n\u001b[0;32m-> 1116\u001b[0m h \u001b[38;5;241m=\u001b[39m \u001b[43mdmp_subresultants\u001b[49m\u001b[43m(\u001b[49m\u001b[43mF\u001b[49m\u001b[43m,\u001b[49m\u001b[43m \u001b[49m\u001b[43mG\u001b[49m\u001b[43m,\u001b[49m\u001b[43m \u001b[49m\u001b[43mu\u001b[49m\u001b[43m,\u001b[49m\u001b[43m \u001b[49m\u001b[43mK\u001b[49m\u001b[43m)\u001b[49m[\u001b[38;5;241m-\u001b[39m\u001b[38;5;241m1\u001b[39m]\n\u001b[1;32m   1117\u001b[0m c, _, _ \u001b[38;5;241m=\u001b[39m dmp_ff_prs_gcd(fc, gc, u \u001b[38;5;241m-\u001b[39m \u001b[38;5;241m1\u001b[39m, K)\n\u001b[1;32m   1119\u001b[0m _, h \u001b[38;5;241m=\u001b[39m dmp_primitive(h, u, K)\n",
      "File \u001b[0;32m~/opt/anaconda3/envs/PIC16B-25W/lib/python3.11/site-packages/sympy/polys/euclidtools.py:549\u001b[0m, in \u001b[0;36mdmp_subresultants\u001b[0;34m(f, g, u, K)\u001b[0m\n\u001b[1;32m    529\u001b[0m \u001b[38;5;28;01mdef\u001b[39;00m \u001b[38;5;21mdmp_subresultants\u001b[39m(f, g, u, K):\n\u001b[1;32m    530\u001b[0m \u001b[38;5;250m    \u001b[39m\u001b[38;5;124;03m\"\"\"\u001b[39;00m\n\u001b[1;32m    531\u001b[0m \u001b[38;5;124;03m    Computes subresultant PRS of two polynomials in `K[X]`.\u001b[39;00m\n\u001b[1;32m    532\u001b[0m \n\u001b[0;32m   (...)\u001b[0m\n\u001b[1;32m    547\u001b[0m \n\u001b[1;32m    548\u001b[0m \u001b[38;5;124;03m    \"\"\"\u001b[39;00m\n\u001b[0;32m--> 549\u001b[0m     \u001b[38;5;28;01mreturn\u001b[39;00m \u001b[43mdmp_inner_subresultants\u001b[49m\u001b[43m(\u001b[49m\u001b[43mf\u001b[49m\u001b[43m,\u001b[49m\u001b[43m \u001b[49m\u001b[43mg\u001b[49m\u001b[43m,\u001b[49m\u001b[43m \u001b[49m\u001b[43mu\u001b[49m\u001b[43m,\u001b[49m\u001b[43m \u001b[49m\u001b[43mK\u001b[49m\u001b[43m)\u001b[49m[\u001b[38;5;241m0\u001b[39m]\n",
      "File \u001b[0;32m~/opt/anaconda3/envs/PIC16B-25W/lib/python3.11/site-packages/sympy/polys/euclidtools.py:512\u001b[0m, in \u001b[0;36mdmp_inner_subresultants\u001b[0;34m(f, g, u, K)\u001b[0m\n\u001b[1;32m    507\u001b[0m f, g, m, d \u001b[38;5;241m=\u001b[39m g, h, k, m \u001b[38;5;241m-\u001b[39m k\n\u001b[1;32m    509\u001b[0m b \u001b[38;5;241m=\u001b[39m dmp_mul(dmp_neg(lc, v, K),\n\u001b[1;32m    510\u001b[0m             dmp_pow(c, d, v, K), v, K)\n\u001b[0;32m--> 512\u001b[0m h \u001b[38;5;241m=\u001b[39m \u001b[43mdmp_prem\u001b[49m\u001b[43m(\u001b[49m\u001b[43mf\u001b[49m\u001b[43m,\u001b[49m\u001b[43m \u001b[49m\u001b[43mg\u001b[49m\u001b[43m,\u001b[49m\u001b[43m \u001b[49m\u001b[43mu\u001b[49m\u001b[43m,\u001b[49m\u001b[43m \u001b[49m\u001b[43mK\u001b[49m\u001b[43m)\u001b[49m\n\u001b[1;32m    513\u001b[0m h \u001b[38;5;241m=\u001b[39m [ dmp_quo(ch, b, v, K) \u001b[38;5;28;01mfor\u001b[39;00m ch \u001b[38;5;129;01min\u001b[39;00m h ]\n\u001b[1;32m    515\u001b[0m lc \u001b[38;5;241m=\u001b[39m dmp_LC(g, K)\n",
      "File \u001b[0;32m~/opt/anaconda3/envs/PIC16B-25W/lib/python3.11/site-packages/sympy/polys/densearith.py:1248\u001b[0m, in \u001b[0;36mdmp_prem\u001b[0;34m(f, g, u, K)\u001b[0m\n\u001b[1;32m   1245\u001b[0m     \u001b[38;5;28;01melif\u001b[39;00m \u001b[38;5;129;01mnot\u001b[39;00m (dr \u001b[38;5;241m<\u001b[39m _dr):\n\u001b[1;32m   1246\u001b[0m         \u001b[38;5;28;01mraise\u001b[39;00m PolynomialDivisionFailed(f, g, K)\n\u001b[0;32m-> 1248\u001b[0m c \u001b[38;5;241m=\u001b[39m \u001b[43mdmp_pow\u001b[49m\u001b[43m(\u001b[49m\u001b[43mlc_g\u001b[49m\u001b[43m,\u001b[49m\u001b[43m \u001b[49m\u001b[43mN\u001b[49m\u001b[43m,\u001b[49m\u001b[43m \u001b[49m\u001b[43mu\u001b[49m\u001b[43m \u001b[49m\u001b[38;5;241;43m-\u001b[39;49m\u001b[43m \u001b[49m\u001b[38;5;241;43m1\u001b[39;49m\u001b[43m,\u001b[49m\u001b[43m \u001b[49m\u001b[43mK\u001b[49m\u001b[43m)\u001b[49m\n\u001b[1;32m   1250\u001b[0m \u001b[38;5;28;01mreturn\u001b[39;00m dmp_mul_term(r, c, \u001b[38;5;241m0\u001b[39m, u, K)\n",
      "File \u001b[0;32m~/opt/anaconda3/envs/PIC16B-25W/lib/python3.11/site-packages/sympy/polys/densearith.py:995\u001b[0m, in \u001b[0;36mdmp_pow\u001b[0;34m(f, n, u, K)\u001b[0m\n\u001b[1;32m    992\u001b[0m         \u001b[38;5;28;01mif\u001b[39;00m \u001b[38;5;129;01mnot\u001b[39;00m n:\n\u001b[1;32m    993\u001b[0m             \u001b[38;5;28;01mbreak\u001b[39;00m\n\u001b[0;32m--> 995\u001b[0m     f \u001b[38;5;241m=\u001b[39m \u001b[43mdmp_sqr\u001b[49m\u001b[43m(\u001b[49m\u001b[43mf\u001b[49m\u001b[43m,\u001b[49m\u001b[43m \u001b[49m\u001b[43mu\u001b[49m\u001b[43m,\u001b[49m\u001b[43m \u001b[49m\u001b[43mK\u001b[49m\u001b[43m)\u001b[49m\n\u001b[1;32m    997\u001b[0m \u001b[38;5;28;01mreturn\u001b[39;00m g\n",
      "File \u001b[0;32m~/opt/anaconda3/envs/PIC16B-25W/lib/python3.11/site-packages/sympy/polys/densearith.py:910\u001b[0m, in \u001b[0;36mdmp_sqr\u001b[0;34m(f, u, K)\u001b[0m\n\u001b[1;32m    907\u001b[0m jmax \u001b[38;5;241m=\u001b[39m jmin \u001b[38;5;241m+\u001b[39m n \u001b[38;5;241m/\u001b[39m\u001b[38;5;241m/\u001b[39m \u001b[38;5;241m2\u001b[39m \u001b[38;5;241m-\u001b[39m \u001b[38;5;241m1\u001b[39m\n\u001b[1;32m    909\u001b[0m \u001b[38;5;28;01mfor\u001b[39;00m j \u001b[38;5;129;01min\u001b[39;00m \u001b[38;5;28mrange\u001b[39m(jmin, jmax \u001b[38;5;241m+\u001b[39m \u001b[38;5;241m1\u001b[39m):\n\u001b[0;32m--> 910\u001b[0m     c \u001b[38;5;241m=\u001b[39m dmp_add(c, \u001b[43mdmp_mul\u001b[49m\u001b[43m(\u001b[49m\u001b[43mf\u001b[49m\u001b[43m[\u001b[49m\u001b[43mj\u001b[49m\u001b[43m]\u001b[49m\u001b[43m,\u001b[49m\u001b[43m \u001b[49m\u001b[43mf\u001b[49m\u001b[43m[\u001b[49m\u001b[43mi\u001b[49m\u001b[43m \u001b[49m\u001b[38;5;241;43m-\u001b[39;49m\u001b[43m \u001b[49m\u001b[43mj\u001b[49m\u001b[43m]\u001b[49m\u001b[43m,\u001b[49m\u001b[43m \u001b[49m\u001b[43mv\u001b[49m\u001b[43m,\u001b[49m\u001b[43m \u001b[49m\u001b[43mK\u001b[49m\u001b[43m)\u001b[49m, v, K)\n\u001b[1;32m    912\u001b[0m c \u001b[38;5;241m=\u001b[39m dmp_mul_ground(c, K(\u001b[38;5;241m2\u001b[39m), v, K)\n\u001b[1;32m    914\u001b[0m \u001b[38;5;28;01mif\u001b[39;00m n \u001b[38;5;241m&\u001b[39m \u001b[38;5;241m1\u001b[39m:\n",
      "File \u001b[0;32m~/opt/anaconda3/envs/PIC16B-25W/lib/python3.11/site-packages/sympy/polys/densearith.py:807\u001b[0m, in \u001b[0;36mdmp_mul\u001b[0;34m(f, g, u, K)\u001b[0m\n\u001b[1;32m    793\u001b[0m \u001b[38;5;250m\u001b[39m\u001b[38;5;124;03m\"\"\"\u001b[39;00m\n\u001b[1;32m    794\u001b[0m \u001b[38;5;124;03mMultiply dense polynomials in ``K[X]``.\u001b[39;00m\n\u001b[1;32m    795\u001b[0m \n\u001b[0;32m   (...)\u001b[0m\n\u001b[1;32m    804\u001b[0m \n\u001b[1;32m    805\u001b[0m \u001b[38;5;124;03m\"\"\"\u001b[39;00m\n\u001b[1;32m    806\u001b[0m \u001b[38;5;28;01mif\u001b[39;00m \u001b[38;5;129;01mnot\u001b[39;00m u:\n\u001b[0;32m--> 807\u001b[0m     \u001b[38;5;28;01mreturn\u001b[39;00m \u001b[43mdup_mul\u001b[49m\u001b[43m(\u001b[49m\u001b[43mf\u001b[49m\u001b[43m,\u001b[49m\u001b[43m \u001b[49m\u001b[43mg\u001b[49m\u001b[43m,\u001b[49m\u001b[43m \u001b[49m\u001b[43mK\u001b[49m\u001b[43m)\u001b[49m\n\u001b[1;32m    809\u001b[0m \u001b[38;5;28;01mif\u001b[39;00m f \u001b[38;5;241m==\u001b[39m g:\n\u001b[1;32m    810\u001b[0m     \u001b[38;5;28;01mreturn\u001b[39;00m dmp_sqr(f, u, K)\n",
      "File \u001b[0;32m~/opt/anaconda3/envs/PIC16B-25W/lib/python3.11/site-packages/sympy/polys/densearith.py:767\u001b[0m, in \u001b[0;36mdup_mul\u001b[0;34m(f, g, K)\u001b[0m\n\u001b[1;32m    764\u001b[0m     coeff \u001b[38;5;241m=\u001b[39m K\u001b[38;5;241m.\u001b[39mzero\n\u001b[1;32m    766\u001b[0m     \u001b[38;5;28;01mfor\u001b[39;00m j \u001b[38;5;129;01min\u001b[39;00m \u001b[38;5;28mrange\u001b[39m(\u001b[38;5;28mmax\u001b[39m(\u001b[38;5;241m0\u001b[39m, i \u001b[38;5;241m-\u001b[39m dg), \u001b[38;5;28mmin\u001b[39m(df, i) \u001b[38;5;241m+\u001b[39m \u001b[38;5;241m1\u001b[39m):\n\u001b[0;32m--> 767\u001b[0m         coeff \u001b[38;5;241m+\u001b[39m\u001b[38;5;241m=\u001b[39m \u001b[43mf\u001b[49m\u001b[43m[\u001b[49m\u001b[43mj\u001b[49m\u001b[43m]\u001b[49m\u001b[38;5;241;43m*\u001b[39;49m\u001b[43mg\u001b[49m\u001b[43m[\u001b[49m\u001b[43mi\u001b[49m\u001b[43m \u001b[49m\u001b[38;5;241;43m-\u001b[39;49m\u001b[43m \u001b[49m\u001b[43mj\u001b[49m\u001b[43m]\u001b[49m\n\u001b[1;32m    769\u001b[0m     h\u001b[38;5;241m.\u001b[39mappend(coeff)\n\u001b[1;32m    771\u001b[0m \u001b[38;5;28;01mreturn\u001b[39;00m dup_strip(h)\n",
      "File \u001b[0;32m~/opt/anaconda3/envs/PIC16B-25W/lib/python3.11/site-packages/sympy/polys/polyclasses.py:3063\u001b[0m, in \u001b[0;36mANP.__mul__\u001b[0;34m(f, g)\u001b[0m\n\u001b[1;32m   3060\u001b[0m \u001b[38;5;28;01mdef\u001b[39;00m \u001b[38;5;21m__rsub__\u001b[39m(f, g):\n\u001b[1;32m   3061\u001b[0m     \u001b[38;5;28;01mreturn\u001b[39;00m (\u001b[38;5;241m-\u001b[39mf)\u001b[38;5;241m.\u001b[39m\u001b[38;5;21m__add__\u001b[39m(g)\n\u001b[0;32m-> 3063\u001b[0m \u001b[38;5;28;01mdef\u001b[39;00m \u001b[38;5;21m__mul__\u001b[39m(f, g):\n\u001b[1;32m   3064\u001b[0m     \u001b[38;5;28;01mif\u001b[39;00m \u001b[38;5;28misinstance\u001b[39m(g, ANP):\n\u001b[1;32m   3065\u001b[0m         \u001b[38;5;28;01mreturn\u001b[39;00m f\u001b[38;5;241m.\u001b[39mmul(g)\n",
      "\u001b[0;31mKeyboardInterrupt\u001b[0m: "
     ]
    }
   ],
   "source": [
    "analyze_function(func, exp)"
   ]
  },
  {
   "cell_type": "code",
   "execution_count": 2,
   "id": "3296c72c-d3c4-4a0e-834c-c2930d55d7a8",
   "metadata": {},
   "outputs": [],
   "source": [
    "x = sympy.Symbol('x')"
   ]
  },
  {
   "cell_type": "code",
   "execution_count": 5,
   "id": "1de18e48-8fa3-4135-ade6-6f5f6730fe32",
   "metadata": {},
   "outputs": [],
   "source": [
    "def func1(x):\n",
    "   return jnp.square(x) - 6\n",
    "func1_expr = x**2 - 6\n",
    "func1_solutions = sympy.solve(func1_expr, x)\n",
    "func1_solutions = [sol.evalf() for sol in func1_solutions if sol.is_real]\n",
    "func1_solutions.sort()\n",
    "\n",
    "def func2(x):\n",
    "   return jnp.square(x) - (2*x) - 4\n",
    "func2_expr = x**2 - 2*x - 4\n",
    "func2_solutions = sympy.solve(func2_expr, x)\n",
    "func2_solutions = [sol.evalf() for sol in func2_solutions if sol.is_real]\n",
    "func2_solutions.sort()\n",
    "\n",
    "def func3(x):\n",
    "   return -jnp.square(x) - (2*x)\n",
    "func3_expr = -x**2 - 2*x\n",
    "func3_solutions = sympy.solve(func3_expr, x)\n",
    "func3_solutions = [sol.evalf() for sol in func3_solutions if sol.is_real]\n",
    "func3_solutions.sort()\n",
    "\n",
    "def func4(x):\n",
    "   return jnp.power(x, 3) + 2 * jnp.power(x, 2) + (4*x) + 3\n",
    "func4_expr = x**3 + 2*x**2 + 4*x + 3\n",
    "func4_solutions = sympy.solve(func4_expr, x)\n",
    "func4_solutions = [sol.evalf() for sol in func4_solutions if sol.is_real]\n",
    "func4_solutions.sort()\n",
    "\n",
    "def func5(x):\n",
    "   return -jnp.power(x, 3) - jnp.power(x, 2) +  (5 * x)\n",
    "func5_expr = -x**3 - x**2 + 5*x\n",
    "func5_solutions = sympy.solve(func5_expr, x)\n",
    "func5_solutions = [sol.evalf() for sol in func5_solutions if sol.is_real]\n",
    "func5_solutions.sort()\n",
    "\n",
    "def func6(x):\n",
    "   return jnp.cos(x)\n",
    "func6_expr = sympy.cos(x)\n",
    "func6_solutions = sympy.solve(func6_expr, x)\n",
    "func6_solutions = [sol.evalf() for sol in func6_solutions if sol.is_real]\n",
    "func6_solutions.sort()\n",
    "\n",
    "def func7(x):\n",
    "   return -4 * jnp.sin(x) + jnp.cos(x)\n",
    "func7_expr = -4 * sympy.sin(x) + sympy.cos(x)\n",
    "func7_solutions = sympy.solve(func7_expr, x)\n",
    "func7_solutions = [sol.evalf() for sol in func7_solutions if sol.is_real]\n",
    "func7_solutions.sort()\n",
    "\n",
    "def func8(x):\n",
    "   return (2*x) + 1\n",
    "func8_expr = 2*x + 1\n",
    "func8_solutions = sympy.solve(func8_expr, x)\n",
    "func8_solutions = [sol.evalf() for sol in func8_solutions if sol.is_real]\n",
    "func8_solutions.sort()\n",
    "\n",
    "functions = [func1, func2, func3, func4, func5, func6, func7, func8]\n",
    "solutions = [func1_solutions, func2_solutions, func3_solutions, func4_solutions, func5_solutions, func6_solutions, func7_solutions, func8_solutions]"
   ]
  },
  {
   "cell_type": "code",
   "execution_count": 4,
   "id": "9c37b502",
   "metadata": {},
   "outputs": [
    {
     "name": "stdout",
     "output_type": "stream",
     "text": [
      "Generated function: 6.13576996827608*x - 6.25777540536906\n",
      "Real roots: [1.01988429125013]\n",
      "Radius of convergence data: [(None, None)]\n"
     ]
    },
    {
     "data": {
      "text/plain": [
       "(6.13576996827608*x - 6.25777540536906, [1.01988429125013])"
      ]
     },
     "execution_count": 4,
     "metadata": {},
     "output_type": "execute_result"
    }
   ],
   "source": [
    "func = generate_random_function(max_degree=2)\n",
    "analyze_function(*func)\n"
   ]
  },
  {
   "cell_type": "code",
   "execution_count": 3,
   "id": "e79ba9c1-6c3c-49a9-8071-437d0174371a",
   "metadata": {},
   "outputs": [
    {
     "name": "stdout",
     "output_type": "stream",
     "text": [
      "\n",
      "=== Analysis for function 1 ===\n",
      "Generated function: 8.0906813071799*x - 3.37006471248837\n",
      "Real roots: [0.416536578878429]\n",
      "Radius of convergence data: [(None, None)]\n",
      "\n",
      "=== Analysis for function 2 ===\n",
      "Generated function: 1.91071395456043*x**2 + 1.74460940276284*x + 4.87911785942862\n",
      "Real roots: []\n",
      "No real roots found, skipping convergence analysis.\n",
      "\n",
      "=== Analysis for function 3 ===\n",
      "Generated function: -0.910774307671016*x**2 - 8.79305049443403*x + 2.45538802373916\n",
      "Real roots: [-9.92607914107842, 0.271601165168938]\n",
      "Radius of convergence data: [(None, -4.82724), (-4.82724, None)]\n",
      "\n",
      "=== Analysis for function 4 ===\n",
      "Generated function: 4.69363518079637*x + 1.19648593667385\n",
      "Real roots: [-0.254916688363249]\n",
      "Radius of convergence data: [(None, None)]\n",
      "\n",
      "=== Analysis for function 5 ===\n",
      "Generated function: 7.8645342266873*x**2 + 11.6008512428247*x - 4.57818010495472\n",
      "Real roots: [-1.79871995485354, 0.323635619476289]\n",
      "Radius of convergence data: [(None, -0.73754), (-0.73754, None)]\n",
      "\n",
      "=== Analysis for function 6 ===\n",
      "Generated function: 1.24112737718728*x + 4.88113114917473\n",
      "Real roots: [-3.93282046540352]\n",
      "Radius of convergence data: [(None, None)]\n",
      "\n",
      "=== Analysis for function 7 ===\n",
      "Generated function: 1.8611688305805*x**2 + 7.22064094942585*x + 5.86996335321593\n",
      "Real roots: [-2.72017509484291, -1.15945196036289]\n",
      "Radius of convergence data: [(None, -1.93981), (-1.93981, None)]\n",
      "\n",
      "=== Analysis for function 8 ===\n",
      "Generated function: -3.22810251403591*x**2 + 3.35776474078175*x + 1.2054005286176\n",
      "Real roots: [-0.282347376177546, 1.32251407664076]\n",
      "Radius of convergence data: [(None, 0.52008), (0.52008, None)]\n",
      "\n",
      "=== Analysis for function 9 ===\n",
      "Generated function: -3.68211242564707*x**2 + 5.04081578946143*x - 2.00194655012331\n",
      "Real roots: []\n",
      "No real roots found, skipping convergence analysis.\n",
      "\n",
      "=== Analysis for function 10 ===\n",
      "Generated function: 7.99829308167415*x + 0.475552067421724\n",
      "Real roots: [-0.0594566943928722]\n",
      "Radius of convergence data: [(None, None)]\n"
     ]
    }
   ],
   "source": [
    "for i in range(10):\n",
    "    print(f\"\\n=== Analysis for function {i+1} ===\")\n",
    "    analyze_function(*generate_random_function(max_degree=2))"
   ]
  },
  {
   "cell_type": "markdown",
   "id": "7eca8f54-b459-49f1-9165-ede1484319ac",
   "metadata": {},
   "source": [
    "The function is really slow, so I want to @jit it for **much faster processing**, but I need to overhaul everything using jax operations to do so. Also was having some issues with using trig functions. \n",
    "\n",
    "I also want to clean up the presentation of this data further, maybe throw it in a table instead. \n",
    "\n",
    "Additionally, I was having issues implementing sin and cos as bases, so I'm gonna come back around to it soon. "
   ]
  }
 ],
 "metadata": {
  "kernelspec": {
   "display_name": "PIC16B-25W",
   "language": "python",
   "name": "python3"
  },
  "language_info": {
   "codemirror_mode": {
    "name": "ipython",
    "version": 3
   },
   "file_extension": ".py",
   "mimetype": "text/x-python",
   "name": "python",
   "nbconvert_exporter": "python",
   "pygments_lexer": "ipython3",
   "version": "3.11.6"
  }
 },
 "nbformat": 4,
 "nbformat_minor": 5
}
