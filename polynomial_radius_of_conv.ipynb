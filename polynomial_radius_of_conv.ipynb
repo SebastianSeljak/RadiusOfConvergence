{
 "cells": [
  {
   "cell_type": "code",
   "execution_count": 25,
   "id": "82d4fc5f-8220-450f-a04d-47971ff48937",
   "metadata": {},
   "outputs": [],
   "source": [
    "import numpy as np\n",
    "import jax.numpy as jnp\n",
    "from jax import grad, jit, vmap\n",
    "import sympy"
   ]
  },
  {
   "cell_type": "code",
   "execution_count": 27,
   "id": "3296c72c-d3c4-4a0e-834c-c2930d55d7a8",
   "metadata": {},
   "outputs": [],
   "source": [
    "x = sympy.Symbol('x')"
   ]
  },
  {
   "cell_type": "code",
   "execution_count": 29,
   "id": "1c6bae30-0057-40a1-a087-ff2a15090a40",
   "metadata": {},
   "outputs": [],
   "source": [
    "def newtons_method(func, x0, tol=1e-6, max_iter=100):\n",
    "   x = x0\n",
    "   for i in range(max_iter):\n",
    "       x = x - func(x) / grad(func)(x)\n",
    "       if abs(func(x)) < tol:\n",
    "           return x\n",
    "   return x"
   ]
  },
  {
   "cell_type": "code",
   "execution_count": 31,
   "id": "36bdaedf-ff2f-4d78-87b5-140737978d31",
   "metadata": {},
   "outputs": [],
   "source": [
    "def converges2(func, solutions, x0, i):# this checks the convergence given a specific root\n",
    "  return np.isclose(float(newtons_method(func, x0)), float(solutions[i]))\n",
    "\n",
    "\n",
    "def radius_of_convergence_bisection2(func, solutions, max_x, root_index, max_iter=100):\n",
    "  min_radius = float(solutions[root_index])\n",
    "  if len(solutions) > (root_index + 1): #if there are more roots, set the max radius to the next root\n",
    "     max_radius = float(solutions[root_index + 1])\n",
    "  else:\n",
    "     max_radius = max_x\n",
    "\n",
    "\n",
    "  root = solutions[root_index]#the root we are looking at\n",
    "  maxRadius_convergence = converges2(func, solutions, max_radius, root_index)#the convergence of the maxRadius\n",
    "  minRadius_convergence = converges2(func, solutions, min_radius, root_index)#the convergence of the minRadius\n",
    "\n",
    "\n",
    "  if maxRadius_convergence:#if the max radius converges then we can conclude that the max radius is infinty\n",
    "     return None\n",
    "  if minRadius_convergence == False:\n",
    "     return 0.0\n",
    "\n",
    "\n",
    "  midpoint = float((root + max_radius) / 2)\n",
    "  radius = 0.0\n",
    "  for i in range(max_iter):#bisection method for finding the radius of convergence\n",
    "     midpoint_convergence = converges2(func, solutions, midpoint, root_index)\n",
    "     if i == max_iter - 1:#keep this\n",
    "        if midpoint_convergence == True:\n",
    "           break\n",
    "     if midpoint_convergence == True:\n",
    "        min_radius = midpoint\n",
    "        midpoint = float((midpoint + max_radius) / 2)\n",
    "     if midpoint_convergence == False:\n",
    "        max_radius = midpoint\n",
    "        midpoint = float((midpoint + min_radius) / 2)\n",
    "\n",
    "\n",
    "     if abs(float(midpoint - root)) <= 1e-6 or abs(float(midpoint - max_radius)) <= 1e-6:\n",
    "        break\n",
    "\n",
    "  return abs(midpoint-root)"
   ]
  },
  {
   "cell_type": "code",
   "execution_count": 33,
   "id": "1de18e48-8fa3-4135-ade6-6f5f6730fe32",
   "metadata": {},
   "outputs": [],
   "source": [
    "def func1(x):\n",
    "   return jnp.square(x) - 6\n",
    "func1_expr = x**2 - 6\n",
    "func1_solutions = sympy.solve(func1_expr, x)\n",
    "func1_solutions = [sol.evalf() for sol in func1_solutions if sol.is_real]\n",
    "func1_solutions.sort()\n",
    "\n",
    "def func2(x):\n",
    "   return jnp.square(x) - (2*x) - 4\n",
    "func2_expr = x**2 - 2*x - 4\n",
    "func2_solutions = sympy.solve(func2_expr, x)\n",
    "func2_solutions = [sol.evalf() for sol in func2_solutions if sol.is_real]\n",
    "func2_solutions.sort()\n",
    "\n",
    "def func3(x):\n",
    "   return -jnp.square(x) - (2*x)\n",
    "func3_expr = -x**2 - 2*x\n",
    "func3_solutions = sympy.solve(func3_expr, x)\n",
    "func3_solutions = [sol.evalf() for sol in func3_solutions if sol.is_real]\n",
    "func3_solutions.sort()\n",
    "\n",
    "def func4(x):\n",
    "   return jnp.power(x, 3) + 2 * jnp.power(x, 2) + (4*x) + 3\n",
    "func4_expr = x**3 + 2*x**2 + 4*x + 3\n",
    "func4_solutions = sympy.solve(func4_expr, x)\n",
    "func4_solutions = [sol.evalf() for sol in func4_solutions if sol.is_real]\n",
    "func4_solutions.sort()\n",
    "\n",
    "def func5(x):\n",
    "   return -jnp.power(x, 3) - jnp.power(x, 2) +  (5 * x)\n",
    "func5_expr = -x**3 - x**2 + 5*x\n",
    "func5_solutions = sympy.solve(func5_expr, x)\n",
    "func5_solutions = [sol.evalf() for sol in func5_solutions if sol.is_real]\n",
    "func5_solutions.sort()\n",
    "\n",
    "def func6(x):\n",
    "   return jnp.cos(x)\n",
    "func6_expr = sympy.cos(x)\n",
    "func6_solutions = sympy.solve(func6_expr, x)\n",
    "func6_solutions = [sol.evalf() for sol in func6_solutions if sol.is_real]\n",
    "func6_solutions.sort()\n",
    "\n",
    "def func7(x):\n",
    "   return -4 * jnp.sin(x) + jnp.cos(x)\n",
    "func7_expr = -4 * sympy.sin(x) + sympy.cos(x)\n",
    "func7_solutions = sympy.solve(func7_expr, x)\n",
    "func7_solutions = [sol.evalf() for sol in func7_solutions if sol.is_real]\n",
    "func7_solutions.sort()\n",
    "\n",
    "def func8(x):\n",
    "   return (2*x) + 1\n",
    "func8_expr = 2*x + 1\n",
    "func8_solutions = sympy.solve(func8_expr, x)\n",
    "func8_solutions = [sol.evalf() for sol in func8_solutions if sol.is_real]\n",
    "func8_solutions.sort()\n",
    "\n",
    "functions = [func1, func2, func3, func4, func5, func6, func7, func8]\n",
    "solutions = [func1_solutions, func2_solutions, func3_solutions, func4_solutions, func5_solutions, func6_solutions, func7_solutions, func8_solutions]"
   ]
  },
  {
   "cell_type": "code",
   "execution_count": 36,
   "id": "bdeced6a-fb11-4584-939e-070e0ac64b2b",
   "metadata": {},
   "outputs": [
    {
     "name": "stdout",
     "output_type": "stream",
     "text": [
      "4.7683716e-07\n",
      "4.7683716e-07\n",
      "0.0\n",
      "4.7683716e-07\n",
      "0.0\n",
      "-0.0\n",
      "0.0\n",
      "9.536743e-07\n",
      "0.0\n",
      "-9.536743e-07\n",
      "-4.371139e-08\n",
      "1.1924881e-08\n",
      "0.0\n",
      "0.0\n"
     ]
    }
   ],
   "source": [
    "for i in range(len(functions)):\n",
    "   for sol in solutions[i]:\n",
    "      print(functions[i](float(sol)))"
   ]
  }
 ],
 "metadata": {
  "kernelspec": {
   "display_name": "Python 3 (ipykernel)",
   "language": "python",
   "name": "python3"
  },
  "language_info": {
   "codemirror_mode": {
    "name": "ipython",
    "version": 3
   },
   "file_extension": ".py",
   "mimetype": "text/x-python",
   "name": "python",
   "nbconvert_exporter": "python",
   "pygments_lexer": "ipython3",
   "version": "3.12.3"
  }
 },
 "nbformat": 4,
 "nbformat_minor": 5
}
