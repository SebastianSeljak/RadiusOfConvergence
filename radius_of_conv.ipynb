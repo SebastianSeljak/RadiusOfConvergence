{
 "cells": [
  {
   "cell_type": "code",
   "execution_count": null,
   "metadata": {},
   "outputs": [],
   "source": [
    "import numpy as np\n",
    "import jax.numpy as jnp\n",
    "from jax import grad, jit, vmap\n",
    "from scipy.optimize import root_scalar\n",
    "import sympy"
   ]
  },
  {
   "cell_type": "code",
   "execution_count": null,
   "metadata": {},
   "outputs": [],
   "source": [
    "x = sympy.Symbol('x')\n",
    "func1_solutions = sympy.solve(func1_expr, x)\n",
    "func1_solutions = [abs(sol.evalf()) for sol in func1_solutions]\n",
    "func1_solutions.sort()\n",
    "func1_solution = func1_solutions[0]"
   ]
  },
  {
   "cell_type": "code",
   "execution_count": 24,
   "metadata": {},
   "outputs": [
    {
     "data": {
      "text/plain": [
       "[2.44948974278318, 2.44948974278318]"
      ]
     },
     "execution_count": 24,
     "metadata": {},
     "output_type": "execute_result"
    }
   ],
   "source": [
    "solutions"
   ]
  },
  {
   "cell_type": "markdown",
   "metadata": {},
   "source": [
    "## Define Functions"
   ]
  },
  {
   "cell_type": "code",
   "execution_count": 44,
   "metadata": {},
   "outputs": [],
   "source": [
    "def func1(x):\n",
    "   return jnp.square(x) - 6\n",
    "func1_expr = x**2 - 6\n",
    "func1_solutions = sympy.solve(func1_expr, x)\n",
    "func1_solutions = [sol.evalf() for sol in func1_solutions if sol.is_real]\n",
    "func1_solutions.sort()\n",
    "func1_solution = func1_solutions[0]\n",
    "\n",
    "def func2(x):\n",
    "   return jnp.square(x) - (2*x) - 4\n",
    "func2_expr = x**2 - 2*x - 4\n",
    "func2_solutions = sympy.solve(func2_expr, x)\n",
    "func2_solutions = [sol.evalf() for sol in func2_solutions if sol.is_real]\n",
    "func2_solutions.sort()\n",
    "func2_solution = func2_solutions[0]\n",
    "\n",
    "def func3(x):\n",
    "   return -jnp.square(x) - (2*x)\n",
    "func3_expr = -x**2 - 2*x\n",
    "func3_solutions = sympy.solve(func3_expr, x)\n",
    "func3_solutions = [sol.evalf() for sol in func3_solutions if sol.is_real]\n",
    "func3_solutions.sort()\n",
    "func3_solution = func3_solutions.pop()\n",
    "\n",
    "def func4(x):\n",
    "   return jnp.power(x, 3) + 2 * jnp.power(x, 2) + (4*x) + 3\n",
    "func4_expr = x**3 + 2*x**2 + 4*x + 3\n",
    "func4_solutions = sympy.solve(func4_expr, x)\n",
    "func4_solutions = [sol.evalf() for sol in func4_solutions if sol.is_real]\n",
    "func4_solutions.sort()\n",
    "func4_solution = func4_solutions[0]\n",
    "\n",
    "def func5(x):\n",
    "   return -jnp.power(x, 3) - jnp.power(x, 2) +  (5 * x)\n",
    "func5_expr = -x**3 - x**2 + 5*x\n",
    "func5_solutions = sympy.solve(func5_expr, x)\n",
    "func5_solutions = [sol.evalf() for sol in func5_solutions if sol.is_real]\n",
    "func5_solutions.sort()\n",
    "func5_solution = func5_solutions[0]\n",
    "\n",
    "def func6(x):\n",
    "   return jnp.cos(x)\n",
    "func6_expr = sympy.cos(x)\n",
    "func6_solutions = sympy.solve(func6_expr, x)\n",
    "func6_solutions = [sol.evalf() for sol in func6_solutions if sol.is_real]\n",
    "func6_solutions.sort()\n",
    "func6_solution = func6_solutions[0]\n",
    "\n",
    "def func7(x):\n",
    "   return -4 * jnp.sin(x) + jnp.cos(x)\n",
    "func7_expr = -4 * sympy.sin(x) + sympy.cos(x)\n",
    "func7_solutions = sympy.solve(func7_expr, x)\n",
    "func7_solutions = [sol.evalf() for sol in func7_solutions if sol.is_real]\n",
    "func7_solutions.sort()\n",
    "func7_solution = func7_solutions[0]\n",
    "\n",
    "def func8(x):\n",
    "   return (2*x) + 1\n",
    "func8_expr = 2*x + 1\n",
    "func8_solutions = sympy.solve(func8_expr, x)\n",
    "func8_solutions = [sol.evalf() for sol in func8_solutions if sol.is_real]\n",
    "func8_solutions.sort()\n",
    "func8_solution = func8_solutions[0]\n",
    "\n",
    "functions = [func1, func2, func3, func4, func5, func6, func7, func8]\n",
    "solutions = [func1_solution, func2_solution, func3_solution, func4_solution, func5_solution, func6_solution, func7_solution, func8_solution]"
   ]
  },
  {
   "cell_type": "code",
   "execution_count": 51,
   "metadata": {},
   "outputs": [
    {
     "name": "stdout",
     "output_type": "stream",
     "text": [
      "4.7683716e-07\n",
      "0.0\n",
      "-0.0\n",
      "0.0\n",
      "9.536743e-07\n",
      "-4.371139e-08\n",
      "0.0\n",
      "0.0\n"
     ]
    }
   ],
   "source": [
    "for i in range(len(functions)):\n",
    "   print(functions[i](float(solutions[i])))"
   ]
  },
  {
   "cell_type": "code",
   "execution_count": 52,
   "metadata": {},
   "outputs": [],
   "source": [
    "def newtons_method(func, solution, x0, tol=1e-6, max_iter=100):\n",
    "   x = x0\n",
    "   for i in range(max_iter):\n",
    "       x = x - func(x) / grad(func)(x)\n",
    "       if abs(func(x)) < tol:\n",
    "           return x\n",
    "   return x"
   ]
  },
  {
   "cell_type": "code",
   "execution_count": 63,
   "metadata": {},
   "outputs": [
    {
     "data": {
      "text/plain": [
       "False"
      ]
     },
     "execution_count": 63,
     "metadata": {},
     "output_type": "execute_result"
    }
   ],
   "source": [
    "np.isclose(float(newtons_method(func1, func1_solution, 1.0)), float(solutions[0]))"
   ]
  },
  {
   "cell_type": "code",
   "execution_count": 64,
   "metadata": {},
   "outputs": [
    {
     "data": {
      "text/plain": [
       "-2.449489742783178"
      ]
     },
     "execution_count": 64,
     "metadata": {},
     "output_type": "execute_result"
    }
   ],
   "source": [
    "float(solutions[0])"
   ]
  },
  {
   "cell_type": "code",
   "execution_count": null,
   "metadata": {},
   "outputs": [],
   "source": [
    "new"
   ]
  }
 ],
 "metadata": {
  "kernelspec": {
   "display_name": "PIC16B-25W",
   "language": "python",
   "name": "python3"
  },
  "language_info": {
   "codemirror_mode": {
    "name": "ipython",
    "version": 3
   },
   "file_extension": ".py",
   "mimetype": "text/x-python",
   "name": "python",
   "nbconvert_exporter": "python",
   "pygments_lexer": "ipython3",
   "version": "3.11.6"
  }
 },
 "nbformat": 4,
 "nbformat_minor": 2
}
