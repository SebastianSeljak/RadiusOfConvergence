{
 "cells": [
  {
   "cell_type": "code",
   "execution_count": 65,
   "metadata": {},
   "outputs": [],
   "source": [
    "import numpy as np\n",
    "import jax.numpy as jnp\n",
    "from jax import grad, jit, vmap\n",
    "from scipy.optimize import root_scalar\n",
    "import sympy"
   ]
  },
  {
   "cell_type": "code",
   "execution_count": 66,
   "metadata": {},
   "outputs": [],
   "source": [
    "x = sympy.Symbol('x')"
   ]
  },
  {
   "cell_type": "markdown",
   "metadata": {},
   "source": [
    "## Define Functions"
   ]
  },
  {
   "cell_type": "code",
   "execution_count": 67,
   "metadata": {},
   "outputs": [],
   "source": [
    "def func1(x):\n",
    "   return jnp.square(x) - 6\n",
    "func1_expr = x**2 - 6\n",
    "func1_solutions = sympy.solve(func1_expr, x)\n",
    "func1_solutions = [sol.evalf() for sol in func1_solutions if sol.is_real]\n",
    "func1_solutions.sort()\n",
    "\n",
    "def func2(x):\n",
    "   return jnp.square(x) - (2*x) - 4\n",
    "func2_expr = x**2 - 2*x - 4\n",
    "func2_solutions = sympy.solve(func2_expr, x)\n",
    "func2_solutions = [sol.evalf() for sol in func2_solutions if sol.is_real]\n",
    "func2_solutions.sort()\n",
    "\n",
    "def func3(x):\n",
    "   return -jnp.square(x) - (2*x)\n",
    "func3_expr = -x**2 - 2*x\n",
    "func3_solutions = sympy.solve(func3_expr, x)\n",
    "func3_solutions = [sol.evalf() for sol in func3_solutions if sol.is_real]\n",
    "func3_solutions.sort()\n",
    "\n",
    "def func4(x):\n",
    "   return jnp.power(x, 3) + 2 * jnp.power(x, 2) + (4*x) + 3\n",
    "func4_expr = x**3 + 2*x**2 + 4*x + 3\n",
    "func4_solutions = sympy.solve(func4_expr, x)\n",
    "func4_solutions = [sol.evalf() for sol in func4_solutions if sol.is_real]\n",
    "func4_solutions.sort()\n",
    "\n",
    "def func5(x):\n",
    "   return -jnp.power(x, 3) - jnp.power(x, 2) +  (5 * x)\n",
    "func5_expr = -x**3 - x**2 + 5*x\n",
    "func5_solutions = sympy.solve(func5_expr, x)\n",
    "func5_solutions = [sol.evalf() for sol in func5_solutions if sol.is_real]\n",
    "func5_solutions.sort()\n",
    "\n",
    "def func6(x):\n",
    "   return jnp.cos(x)\n",
    "func6_expr = sympy.cos(x)\n",
    "func6_solutions = sympy.solve(func6_expr, x)\n",
    "func6_solutions = [sol.evalf() for sol in func6_solutions if sol.is_real]\n",
    "func6_solutions.sort()\n",
    "\n",
    "def func7(x):\n",
    "   return -4 * jnp.sin(x) + jnp.cos(x)\n",
    "func7_expr = -4 * sympy.sin(x) + sympy.cos(x)\n",
    "func7_solutions = sympy.solve(func7_expr, x)\n",
    "func7_solutions = [sol.evalf() for sol in func7_solutions if sol.is_real]\n",
    "func7_solutions.sort()\n",
    "\n",
    "def func8(x):\n",
    "   return (2*x) + 1\n",
    "func8_expr = 2*x + 1\n",
    "func8_solutions = sympy.solve(func8_expr, x)\n",
    "func8_solutions = [sol.evalf() for sol in func8_solutions if sol.is_real]\n",
    "func8_solutions.sort()\n",
    "\n",
    "functions = [func1, func2, func3, func4, func5, func6, func7, func8]\n",
    "solutions = [func1_solutions, func2_solutions, func3_solutions, func4_solutions, func5_solutions, func6_solutions, func7_solutions, func8_solutions]"
   ]
  },
  {
   "cell_type": "code",
   "execution_count": 69,
   "metadata": {},
   "outputs": [
    {
     "name": "stdout",
     "output_type": "stream",
     "text": [
      "4.7683716e-07\n",
      "4.7683716e-07\n",
      "0.0\n",
      "4.7683716e-07\n",
      "0.0\n",
      "-0.0\n",
      "0.0\n",
      "9.536743e-07\n",
      "0.0\n",
      "-9.536743e-07\n",
      "-4.371139e-08\n",
      "1.1924881e-08\n",
      "0.0\n",
      "0.0\n"
     ]
    }
   ],
   "source": [
    "for i in range(len(functions)):\n",
    "   for sol in solutions[i]:\n",
    "      print(functions[i](float(sol)))"
   ]
  },
  {
   "cell_type": "code",
   "execution_count": 71,
   "metadata": {},
   "outputs": [],
   "source": [
    "def newtons_method(func, x0, tol=1e-6, max_iter=100):\n",
    "   x = x0\n",
    "   for i in range(max_iter):\n",
    "       x = x - func(x) / grad(func)(x)\n",
    "       if abs(func(x)) < tol:\n",
    "           return x\n",
    "   return x"
   ]
  },
  {
   "cell_type": "code",
   "execution_count": 82,
   "metadata": {},
   "outputs": [],
   "source": [
    "def converges(func, solutions, x0):\n",
    "   return np.any([np.isclose(float(newtons_method(func, x0)), float(sol)) for sol in solutions])"
   ]
  },
  {
   "cell_type": "code",
   "execution_count": 87,
   "metadata": {},
   "outputs": [
    {
     "name": "stdout",
     "output_type": "stream",
     "text": [
      "For function 1: True\n",
      "For function 2: True\n",
      "For function 3: True\n",
      "For function 4: True\n",
      "For function 5: True\n",
      "For function 6: False\n",
      "For function 7: True\n",
      "For function 8: True\n"
     ]
    }
   ],
   "source": [
    "for i in range(len(functions)):\n",
    "    print(f\"For function {i+1}: \" + str(converges(functions[i], solutions[i], .10)))"
   ]
  },
  {
   "cell_type": "code",
   "execution_count": 90,
   "metadata": {},
   "outputs": [],
   "source": [
    "def radius_of_convergence_bisection(func, solutions, max_x, max_iter=100):\n",
    "    min_radius = float(solutions[0])\n",
    "    max_radius = max_x\n",
    "    min_convergence = converges(func, solutions, min_radius)\n",
    "    max_convergence = converges(func, solutions, max_radius)\n",
    "    if min_convergence != max_convergence:\n",
    "        for i in range(max_iter):\n",
    "            new_radius = (min_radius + max_radius) / 2\n",
    "            new_convergence = converges(func, solutions, new_radius)\n",
    "            if new_convergence:\n",
    "                min_radius = new_radius\n",
    "            else:\n",
    "                max_radius = new_radius\n",
    "            if abs(min_radius - max_radius) < 1e-6:\n",
    "                return min_radius\n",
    "        return min_radius\n",
    "    return None\n",
    "    "
   ]
  },
  {
   "cell_type": "code",
   "execution_count": 110,
   "metadata": {},
   "outputs": [
    {
     "name": "stdout",
     "output_type": "stream",
     "text": [
      "5.884843938768045\n",
      "-0.39061930075447276\n"
     ]
    }
   ],
   "source": [
    "print(radius_of_convergence_bisection(func6, func6_solutions, 1000.0))\n",
    "print(radius_of_convergence_bisection(func6, func6_solutions, -1000.0))"
   ]
  },
  {
   "cell_type": "code",
   "execution_count": 109,
   "metadata": {},
   "outputs": [
    {
     "data": {
      "text/plain": [
       "False"
      ]
     },
     "execution_count": 109,
     "metadata": {},
     "output_type": "execute_result"
    }
   ],
   "source": [
    "converges(func6, func6_solutions, -1.10)"
   ]
  }
 ],
 "metadata": {
  "kernelspec": {
   "display_name": "PIC16B-25W",
   "language": "python",
   "name": "python3"
  },
  "language_info": {
   "codemirror_mode": {
    "name": "ipython",
    "version": 3
   },
   "file_extension": ".py",
   "mimetype": "text/x-python",
   "name": "python",
   "nbconvert_exporter": "python",
   "pygments_lexer": "ipython3",
   "version": "3.11.6"
  }
 },
 "nbformat": 4,
 "nbformat_minor": 2
}
