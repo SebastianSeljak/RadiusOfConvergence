{
 "cells": [
  {
   "cell_type": "code",
   "execution_count": 9,
   "id": "3d514db3-12b3-4c6a-ada4-7163df018ca1",
   "metadata": {},
   "outputs": [],
   "source": [
    "import numpy as np\n",
    "import jax.numpy as jnp\n",
    "from jax import grad, jit, vmap, scipy\n",
    "import jax\n",
    "import sympy\n",
    "from radius_of_convergence import taylor_approx, truncated_fft"
   ]
  },
  {
   "cell_type": "code",
   "execution_count": 11,
   "id": "f8c8a794-dc89-4d27-b583-ad97e995e071",
   "metadata": {},
   "outputs": [],
   "source": [
    "x = sympy.Symbol('x')"
   ]
  },
  {
   "cell_type": "code",
   "execution_count": null,
   "id": "aa05cfbc-bdf5-49fb-8e83-a567397281cc",
   "metadata": {},
   "outputs": [],
   "source": [
    "def func1(x):\n",
    "    return jnp.exp(x)\n",
    "func1_expr = sympy.exp(x)\n",
    "\n",
    "p1 = sympy.plot(func1_expr, (x, -10, 10), show=False, label=\"Original function\", legend=True, ylim=(-10, 10))\n",
    "for i in range(3):\n",
    "     func1_approx = taylor_approx(func1, 0.0, i)\n",
    "     p2 = sympy.plot(func1_approx, (x, -10, 10), color='red', show=False, label=f\"Approx of degree {i}\", ylim=(-10, 10))\n",
    "     p1.extend(p2)\n",
    "p1.show()\n",
    "\n",
    "coefs, reconstructed = truncated_fft(func1, n_terms=4, plot=True, N=1000, ds=0.1)\n"
   ]
  },
  {
   "cell_type": "code",
   "execution_count": null,
   "id": "f1c0ab5e",
   "metadata": {},
   "outputs": [],
   "source": [
    "def func1(x):\n",
    "    return jnp.power(x-60, -1)\n",
    "func1_expr = (x-60) **(-1)\n",
    "\n",
    "p1 = sympy.plot(func1_expr, (x, -70, -50), show=False, label=\"Original function\", legend=True, ylim=(-10, 10))\n",
    "for i in range(3):\n",
    "     func1_approx = taylor_approx(func1, 0.0, i)\n",
    "     p2 = sympy.plot(func1_approx, (x, -70, -50), color='red', show=False, label=f\"Approx of degree {i}\", ylim=(-10, 10))\n",
    "     p1.extend(p2)\n",
    "p1.show()\n",
    "\n",
    "coefs, reconstructed = truncated_fft(func1, n_terms=4, plot=True, N=1000, ds=0.1)\n"
   ]
  },
  {
   "cell_type": "code",
   "execution_count": null,
   "id": "90f52673",
   "metadata": {},
   "outputs": [],
   "source": [
    "coefs"
   ]
  },
  {
   "cell_type": "code",
   "execution_count": null,
   "id": "fbc8b61c-3134-4a72-82cf-f11e1036439e",
   "metadata": {},
   "outputs": [],
   "source": [
    "def func1(x):\n",
    "   return -4 * jnp.sin(x) + jnp.cos(x)\n",
    "func1_expr = -4 * sympy.sin(x) + sympy.cos(x)\n",
    "\n",
    "p1 = sympy.plot(func1_expr, (x, -10, 10), show=False, label=\"Original function\", legend=True)\n",
    "for i in range(3):\n",
    "    func1_approx = taylor_approx(func1, 0.0, i)\n",
    "    p2 = sympy.plot(func1_approx, (x, -10, 10), color='red', show=False, label=f\"Approx of degree {i}\")\n",
    "    p1.extend(p2)\n",
    "p1.show()"
   ]
  },
  {
   "cell_type": "code",
   "execution_count": null,
   "id": "7e06bb81-1d47-4fd0-a198-6d591641df81",
   "metadata": {},
   "outputs": [],
   "source": []
  }
 ],
 "metadata": {
  "kernelspec": {
   "display_name": "Python 3 (ipykernel)",
   "language": "python",
   "name": "python3"
  },
  "language_info": {
   "codemirror_mode": {
    "name": "ipython",
    "version": 3
   },
   "file_extension": ".py",
   "mimetype": "text/x-python",
   "name": "python",
   "nbconvert_exporter": "python",
   "pygments_lexer": "ipython3",
   "version": "3.12.3"
  }
 },
 "nbformat": 4,
 "nbformat_minor": 5
}
